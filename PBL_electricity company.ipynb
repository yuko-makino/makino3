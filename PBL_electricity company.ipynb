{
 "cells": [
  {
   "cell_type": "markdown",
   "metadata": {},
   "source": [
    "# 翻訳家育成プログラム - 電力データを整理・可視化しよう-サンプルコード\n",
    "copyright 2019 DataMix Co.,Ltd."
   ]
  },
  {
   "cell_type": "code",
   "execution_count": 2,
   "metadata": {},
   "outputs": [],
   "source": [
    "import pandas as pd\n",
    "import numpy as np\n",
    "import matplotlib\n",
    "import matplotlib.pyplot as plt"
   ]
  },
  {
   "cell_type": "markdown",
   "metadata": {},
   "source": [
    "### 試してみよう1 electricity_data2014.csvを読み込んで、先頭5行を出力してみましょう"
   ]
  },
  {
   "cell_type": "code",
   "execution_count": 3,
   "metadata": {},
   "outputs": [],
   "source": [
    "# 変数名はdataとしてください\n",
    "data = pd.read_csv(\"electricity_data2014.csv\")"
   ]
  },
  {
   "cell_type": "code",
   "execution_count": 5,
   "metadata": {
    "scrolled": true
   },
   "outputs": [
    {
     "data": {
      "text/html": [
       "<div>\n",
       "<style scoped>\n",
       "    .dataframe tbody tr th:only-of-type {\n",
       "        vertical-align: middle;\n",
       "    }\n",
       "\n",
       "    .dataframe tbody tr th {\n",
       "        vertical-align: top;\n",
       "    }\n",
       "\n",
       "    .dataframe thead th {\n",
       "        text-align: right;\n",
       "    }\n",
       "</style>\n",
       "<table border=\"1\" class=\"dataframe\">\n",
       "  <thead>\n",
       "    <tr style=\"text-align: right;\">\n",
       "      <th></th>\n",
       "      <th>customer_id</th>\n",
       "      <th>year</th>\n",
       "      <th>month</th>\n",
       "      <th>day</th>\n",
       "      <th>dayofweek</th>\n",
       "      <th>hour</th>\n",
       "      <th>value</th>\n",
       "    </tr>\n",
       "  </thead>\n",
       "  <tbody>\n",
       "    <tr>\n",
       "      <td>0</td>\n",
       "      <td>MT_001</td>\n",
       "      <td>2014</td>\n",
       "      <td>1</td>\n",
       "      <td>1</td>\n",
       "      <td>Wednesday</td>\n",
       "      <td>0</td>\n",
       "      <td>10.152284</td>\n",
       "    </tr>\n",
       "    <tr>\n",
       "      <td>1</td>\n",
       "      <td>MT_001</td>\n",
       "      <td>2014</td>\n",
       "      <td>1</td>\n",
       "      <td>1</td>\n",
       "      <td>Wednesday</td>\n",
       "      <td>1</td>\n",
       "      <td>11.421320</td>\n",
       "    </tr>\n",
       "    <tr>\n",
       "      <td>2</td>\n",
       "      <td>MT_001</td>\n",
       "      <td>2014</td>\n",
       "      <td>1</td>\n",
       "      <td>1</td>\n",
       "      <td>Wednesday</td>\n",
       "      <td>2</td>\n",
       "      <td>11.421320</td>\n",
       "    </tr>\n",
       "    <tr>\n",
       "      <td>3</td>\n",
       "      <td>MT_001</td>\n",
       "      <td>2014</td>\n",
       "      <td>1</td>\n",
       "      <td>1</td>\n",
       "      <td>Wednesday</td>\n",
       "      <td>3</td>\n",
       "      <td>11.421320</td>\n",
       "    </tr>\n",
       "    <tr>\n",
       "      <td>4</td>\n",
       "      <td>MT_001</td>\n",
       "      <td>2014</td>\n",
       "      <td>1</td>\n",
       "      <td>1</td>\n",
       "      <td>Wednesday</td>\n",
       "      <td>4</td>\n",
       "      <td>10.152284</td>\n",
       "    </tr>\n",
       "  </tbody>\n",
       "</table>\n",
       "</div>"
      ],
      "text/plain": [
       "  customer_id  year  month  day  dayofweek  hour      value\n",
       "0      MT_001  2014      1    1  Wednesday     0  10.152284\n",
       "1      MT_001  2014      1    1  Wednesday     1  11.421320\n",
       "2      MT_001  2014      1    1  Wednesday     2  11.421320\n",
       "3      MT_001  2014      1    1  Wednesday     3  11.421320\n",
       "4      MT_001  2014      1    1  Wednesday     4  10.152284"
      ]
     },
     "execution_count": 5,
     "metadata": {},
     "output_type": "execute_result"
    }
   ],
   "source": [
    "data.head()"
   ]
  },
  {
   "cell_type": "markdown",
   "metadata": {},
   "source": [
    "## 切り口を練るために可視化するtotal_value_by_company = data.groupby([\"customer_id\"]).aggregate({\"value\":np.sum}).reset_index()\n",
    "total_value_by_company.describe()"
   ]
  },
  {
   "cell_type": "markdown",
   "metadata": {},
   "source": [
    "### 試してみよう2 Pandasによるデータの集計1: 集計関数を使う\n"
   ]
  },
  {
   "cell_type": "markdown",
   "metadata": {},
   "source": [
    "### groupby + aggregateで集計する\n",
    "使い方:  data.groupby([キーとなる列名]).aggregate({\"集計対象の列名\":集計関数}).reset_index()"
   ]
  },
  {
   "cell_type": "code",
   "execution_count": 48,
   "metadata": {},
   "outputs": [
    {
     "data": {
      "text/html": [
       "<div>\n",
       "<style scoped>\n",
       "    .dataframe tbody tr th:only-of-type {\n",
       "        vertical-align: middle;\n",
       "    }\n",
       "\n",
       "    .dataframe tbody tr th {\n",
       "        vertical-align: top;\n",
       "    }\n",
       "\n",
       "    .dataframe thead th {\n",
       "        text-align: right;\n",
       "    }\n",
       "</style>\n",
       "<table border=\"1\" class=\"dataframe\">\n",
       "  <thead>\n",
       "    <tr style=\"text-align: right;\">\n",
       "      <th></th>\n",
       "      <th>value</th>\n",
       "    </tr>\n",
       "  </thead>\n",
       "  <tbody>\n",
       "    <tr>\n",
       "      <td>count</td>\n",
       "      <td>3.700000e+02</td>\n",
       "    </tr>\n",
       "    <tr>\n",
       "      <td>mean</td>\n",
       "      <td>2.125232e+07</td>\n",
       "    </tr>\n",
       "    <tr>\n",
       "      <td>std</td>\n",
       "      <td>1.035254e+08</td>\n",
       "    </tr>\n",
       "    <tr>\n",
       "      <td>min</td>\n",
       "      <td>0.000000e+00</td>\n",
       "    </tr>\n",
       "    <tr>\n",
       "      <td>25%</td>\n",
       "      <td>2.199131e+06</td>\n",
       "    </tr>\n",
       "    <tr>\n",
       "      <td>50%</td>\n",
       "      <td>4.402828e+06</td>\n",
       "    </tr>\n",
       "    <tr>\n",
       "      <td>75%</td>\n",
       "      <td>1.072068e+07</td>\n",
       "    </tr>\n",
       "    <tr>\n",
       "      <td>max</td>\n",
       "      <td>1.692666e+09</td>\n",
       "    </tr>\n",
       "  </tbody>\n",
       "</table>\n",
       "</div>"
      ],
      "text/plain": [
       "              value\n",
       "count  3.700000e+02\n",
       "mean   2.125232e+07\n",
       "std    1.035254e+08\n",
       "min    0.000000e+00\n",
       "25%    2.199131e+06\n",
       "50%    4.402828e+06\n",
       "75%    1.072068e+07\n",
       "max    1.692666e+09"
      ]
     },
     "execution_count": 48,
     "metadata": {},
     "output_type": "execute_result"
    }
   ],
   "source": [
    "total_value_by_company = data.groupby([\"customer_id\"]).aggregate({\"value\":np.sum}).reset_index()\n",
    "total_value_by_company.describe()\n"
   ]
  },
  {
   "cell_type": "code",
   "execution_count": 49,
   "metadata": {},
   "outputs": [
    {
     "data": {
      "text/plain": [
       "<matplotlib.axes._subplots.AxesSubplot at 0x134da332b08>"
      ]
     },
     "execution_count": 49,
     "metadata": {},
     "output_type": "execute_result"
    },
    {
     "data": {
      "image/png": "[encoded data removed]",
      "text/plain": [
       "<Figure size 432x288 with 1 Axes>"
      ]
     },
     "metadata": {
      "needs_background": "light"
     },
     "output_type": "display_data"
    }
   ],
   "source": [
    "total_value_by_company[\"value\"].hist()\n"
   ]
  },
  {
   "cell_type": "code",
   "execution_count": 58,
   "metadata": {},
   "outputs": [
    {
     "name": "stdout",
     "output_type": "stream",
     "text": [
      "        customer_id  year  month  day  dayofweek  hour       value\n",
      "0            MT_001  2014      1    1  Wednesday     0   10.152284\n",
      "1            MT_001  2014      1    1  Wednesday     1   11.421320\n",
      "2            MT_001  2014      1    1  Wednesday     2   11.421320\n",
      "3            MT_001  2014      1    1  Wednesday     3   11.421320\n",
      "4            MT_001  2014      1    1  Wednesday     4   10.152284\n",
      "...             ...   ...    ...  ...        ...   ...         ...\n",
      "3223675      MT_368  2014     12   31  Wednesday    19  158.597663\n",
      "3223676      MT_368  2014     12   31  Wednesday    20  435.726210\n",
      "3223677      MT_368  2014     12   31  Wednesday    21  619.365609\n",
      "3223678      MT_368  2014     12   31  Wednesday    22  781.302170\n",
      "3223679      MT_368  2014     12   31  Wednesday    23  646.076795\n",
      "\n",
      "[2382720 rows x 7 columns]\n"
     ]
    }
   ],
   "source": [
    "big_clients = list(total_value_by_company[total_value_by_company[\"value\"] > 10000000][\"customer_id\"])\n",
    "small_clients = list(total_value_by_company[total_value_by_company[\"value\"] <= 10000000][\"customer_id\"])\n",
    "small_df = data[data[\"customer_id\"].isin(small_clients)]\n",
    "print(small_df)"
   ]
  },
  {
   "cell_type": "code",
   "execution_count": 59,
   "metadata": {},
   "outputs": [],
   "source": [
    "month_df = pd.pivot_table(small_df, columns=\"month\", index=\"customer_id\", values=\"value\", aggfunc=np.mean).reset_index()\n"
   ]
  },
  {
   "cell_type": "code",
   "execution_count": 60,
   "metadata": {},
   "outputs": [
    {
     "data": {
      "text/html": [
       "<div>\n",
       "<style scoped>\n",
       "    .dataframe tbody tr th:only-of-type {\n",
       "        vertical-align: middle;\n",
       "    }\n",
       "\n",
       "    .dataframe tbody tr th {\n",
       "        vertical-align: top;\n",
       "    }\n",
       "\n",
       "    .dataframe thead th {\n",
       "        text-align: right;\n",
       "    }\n",
       "</style>\n",
       "<table border=\"1\" class=\"dataframe\">\n",
       "  <thead>\n",
       "    <tr style=\"text-align: right;\">\n",
       "      <th>month</th>\n",
       "      <th>1</th>\n",
       "      <th>2</th>\n",
       "      <th>3</th>\n",
       "      <th>4</th>\n",
       "      <th>5</th>\n",
       "      <th>6</th>\n",
       "      <th>7</th>\n",
       "      <th>8</th>\n",
       "      <th>9</th>\n",
       "      <th>10</th>\n",
       "      <th>11</th>\n",
       "      <th>12</th>\n",
       "    </tr>\n",
       "  </thead>\n",
       "  <tbody>\n",
       "    <tr>\n",
       "      <td>0</td>\n",
       "      <td>9.705393</td>\n",
       "      <td>9.087201</td>\n",
       "      <td>9.558703</td>\n",
       "      <td>11.613438</td>\n",
       "      <td>18.933191</td>\n",
       "      <td>8.932600</td>\n",
       "      <td>9.101577</td>\n",
       "      <td>61.208790</td>\n",
       "      <td>32.947335</td>\n",
       "      <td>6.508924</td>\n",
       "      <td>7.924422</td>\n",
       "      <td>8.465354</td>\n",
       "    </tr>\n",
       "    <tr>\n",
       "      <td>1</td>\n",
       "      <td>113.461509</td>\n",
       "      <td>100.564968</td>\n",
       "      <td>93.250509</td>\n",
       "      <td>96.621622</td>\n",
       "      <td>102.503289</td>\n",
       "      <td>107.689268</td>\n",
       "      <td>129.905054</td>\n",
       "      <td>129.560906</td>\n",
       "      <td>118.373637</td>\n",
       "      <td>103.224086</td>\n",
       "      <td>93.077288</td>\n",
       "      <td>91.385422</td>\n",
       "    </tr>\n",
       "    <tr>\n",
       "      <td>2</td>\n",
       "      <td>6.739114</td>\n",
       "      <td>6.971164</td>\n",
       "      <td>6.953981</td>\n",
       "      <td>6.851530</td>\n",
       "      <td>6.865232</td>\n",
       "      <td>6.823776</td>\n",
       "      <td>6.853554</td>\n",
       "      <td>6.845380</td>\n",
       "      <td>6.843083</td>\n",
       "      <td>6.851219</td>\n",
       "      <td>6.846703</td>\n",
       "      <td>6.623506</td>\n",
       "    </tr>\n",
       "    <tr>\n",
       "      <td>3</td>\n",
       "      <td>560.024915</td>\n",
       "      <td>589.019551</td>\n",
       "      <td>513.113034</td>\n",
       "      <td>481.131436</td>\n",
       "      <td>434.494930</td>\n",
       "      <td>431.035456</td>\n",
       "      <td>437.510928</td>\n",
       "      <td>429.012042</td>\n",
       "      <td>433.875339</td>\n",
       "      <td>434.844611</td>\n",
       "      <td>502.961269</td>\n",
       "      <td>568.761474</td>\n",
       "    </tr>\n",
       "    <tr>\n",
       "      <td>4</td>\n",
       "      <td>282.133491</td>\n",
       "      <td>280.155706</td>\n",
       "      <td>226.739116</td>\n",
       "      <td>187.857385</td>\n",
       "      <td>155.205875</td>\n",
       "      <td>152.032520</td>\n",
       "      <td>195.753016</td>\n",
       "      <td>164.568581</td>\n",
       "      <td>167.240854</td>\n",
       "      <td>175.829399</td>\n",
       "      <td>231.365176</td>\n",
       "      <td>281.195909</td>\n",
       "    </tr>\n",
       "  </tbody>\n",
       "</table>\n",
       "</div>"
      ],
      "text/plain": [
       "month          1           2           3           4           5           6   \\\n",
       "0        9.705393    9.087201    9.558703   11.613438   18.933191    8.932600   \n",
       "1      113.461509  100.564968   93.250509   96.621622  102.503289  107.689268   \n",
       "2        6.739114    6.971164    6.953981    6.851530    6.865232    6.823776   \n",
       "3      560.024915  589.019551  513.113034  481.131436  434.494930  431.035456   \n",
       "4      282.133491  280.155706  226.739116  187.857385  155.205875  152.032520   \n",
       "\n",
       "month          7           8           9           10          11          12  \n",
       "0        9.101577   61.208790   32.947335    6.508924    7.924422    8.465354  \n",
       "1      129.905054  129.560906  118.373637  103.224086   93.077288   91.385422  \n",
       "2        6.853554    6.845380    6.843083    6.851219    6.846703    6.623506  \n",
       "3      437.510928  429.012042  433.875339  434.844611  502.961269  568.761474  \n",
       "4      195.753016  164.568581  167.240854  175.829399  231.365176  281.195909  "
      ]
     },
     "execution_count": 60,
     "metadata": {},
     "output_type": "execute_result"
    }
   ],
   "source": [
    "target_cols = list(range(1,13))\n",
    "month_df2 = month_df[target_cols]\n",
    "month_df2.head()"
   ]
  },
  {
   "cell_type": "code",
   "execution_count": 69,
   "metadata": {},
   "outputs": [],
   "source": [
    "from sklearn.preprocessing import StandardScaler"
   ]
  },
  {
   "cell_type": "code",
   "execution_count": 70,
   "metadata": {},
   "outputs": [],
   "source": [
    "scaler = StandardScaler()"
   ]
  },
  {
   "cell_type": "code",
   "execution_count": 74,
   "metadata": {},
   "outputs": [],
   "source": [
    "month_df2_std = scaler.fit_transform(month_df2.T)\n",
    "month_df2_std=pd.DataFrame(month_df2_std).T"
   ]
  },
  {
   "cell_type": "code",
   "execution_count": 75,
   "metadata": {},
   "outputs": [
    {
     "data": {
      "text/plain": [
       "<matplotlib.axes._subplots.AxesSubplot at 0x134da3f3b08>"
      ]
     },
     "execution_count": 75,
     "metadata": {},
     "output_type": "execute_result"
    },
    {
     "data": {
      "image/png": "[encoded data removed]",
      "text/plain": [
       "<Figure size 432x288 with 1 Axes>"
      ]
     },
     "metadata": {
      "needs_background": "light"
     },
     "output_type": "display_data"
    }
   ],
   "source": [
    "month_df2.T.plot(color='blue', alpha=0.02, legend=False)"
   ]
  },
  {
   "cell_type": "code",
   "execution_count": 76,
   "metadata": {},
   "outputs": [],
   "source": [
    "from sklearn.cluster import KMeans"
   ]
  },
  {
   "cell_type": "code",
   "execution_count": 78,
   "metadata": {},
   "outputs": [
    {
     "data": {
      "text/plain": [
       "KMeans(algorithm='auto', copy_x=True, init='k-means++', max_iter=300,\n",
       "       n_clusters=2, n_init=10, n_jobs=None, precompute_distances='auto',\n",
       "       random_state=1234, tol=0.0001, verbose=0)"
      ]
     },
     "execution_count": 78,
     "metadata": {},
     "output_type": "execute_result"
    }
   ],
   "source": [
    "km = KMeans(n_clusters=2, random_state=1234)\n",
    "km.fit(month_df_std)"
   ]
  },
  {
   "cell_type": "code",
   "execution_count": 61,
   "metadata": {},
   "outputs": [],
   "source": [
    "hour_df = pd.pivot_table(small_df, columns=\"hour\", index=\"customer_id\", values=\"value\", aggfunc=np.mean).reset_index()"
   ]
  },
  {
   "cell_type": "code",
   "execution_count": 65,
   "metadata": {},
   "outputs": [
    {
     "data": {
      "text/html": [
       "<div>\n",
       "<style scoped>\n",
       "    .dataframe tbody tr th:only-of-type {\n",
       "        vertical-align: middle;\n",
       "    }\n",
       "\n",
       "    .dataframe tbody tr th {\n",
       "        vertical-align: top;\n",
       "    }\n",
       "\n",
       "    .dataframe thead th {\n",
       "        text-align: right;\n",
       "    }\n",
       "</style>\n",
       "<table border=\"1\" class=\"dataframe\">\n",
       "  <thead>\n",
       "    <tr style=\"text-align: right;\">\n",
       "      <th>hour</th>\n",
       "      <th>0</th>\n",
       "      <th>1</th>\n",
       "      <th>2</th>\n",
       "      <th>3</th>\n",
       "      <th>4</th>\n",
       "      <th>5</th>\n",
       "      <th>6</th>\n",
       "      <th>7</th>\n",
       "      <th>8</th>\n",
       "      <th>9</th>\n",
       "      <th>...</th>\n",
       "      <th>13</th>\n",
       "      <th>14</th>\n",
       "      <th>15</th>\n",
       "      <th>16</th>\n",
       "      <th>17</th>\n",
       "      <th>18</th>\n",
       "      <th>19</th>\n",
       "      <th>20</th>\n",
       "      <th>21</th>\n",
       "      <th>22</th>\n",
       "    </tr>\n",
       "  </thead>\n",
       "  <tbody>\n",
       "    <tr>\n",
       "      <td>0</td>\n",
       "      <td>16.194979</td>\n",
       "      <td>16.702594</td>\n",
       "      <td>16.528753</td>\n",
       "      <td>16.619150</td>\n",
       "      <td>16.925110</td>\n",
       "      <td>16.563521</td>\n",
       "      <td>16.650442</td>\n",
       "      <td>17.192824</td>\n",
       "      <td>17.224115</td>\n",
       "      <td>25.485015</td>\n",
       "      <td>...</td>\n",
       "      <td>14.053265</td>\n",
       "      <td>15.350115</td>\n",
       "      <td>16.650442</td>\n",
       "      <td>13.747305</td>\n",
       "      <td>13.462207</td>\n",
       "      <td>15.437035</td>\n",
       "      <td>14.745150</td>\n",
       "      <td>14.856408</td>\n",
       "      <td>16.045477</td>\n",
       "      <td>16.097629</td>\n",
       "    </tr>\n",
       "    <tr>\n",
       "      <td>1</td>\n",
       "      <td>95.561098</td>\n",
       "      <td>83.953312</td>\n",
       "      <td>80.173035</td>\n",
       "      <td>78.481654</td>\n",
       "      <td>80.204213</td>\n",
       "      <td>85.323175</td>\n",
       "      <td>96.350280</td>\n",
       "      <td>118.661704</td>\n",
       "      <td>121.237748</td>\n",
       "      <td>119.739278</td>\n",
       "      <td>...</td>\n",
       "      <td>115.736862</td>\n",
       "      <td>112.880220</td>\n",
       "      <td>108.133440</td>\n",
       "      <td>107.174731</td>\n",
       "      <td>109.296752</td>\n",
       "      <td>115.409497</td>\n",
       "      <td>125.411641</td>\n",
       "      <td>126.859448</td>\n",
       "      <td>116.198679</td>\n",
       "      <td>106.030905</td>\n",
       "    </tr>\n",
       "    <tr>\n",
       "      <td>2</td>\n",
       "      <td>6.912393</td>\n",
       "      <td>6.379206</td>\n",
       "      <td>6.026921</td>\n",
       "      <td>6.664842</td>\n",
       "      <td>6.788617</td>\n",
       "      <td>7.159944</td>\n",
       "      <td>6.912393</td>\n",
       "      <td>6.912393</td>\n",
       "      <td>7.159944</td>\n",
       "      <td>7.281340</td>\n",
       "      <td>...</td>\n",
       "      <td>6.788617</td>\n",
       "      <td>6.419671</td>\n",
       "      <td>6.419671</td>\n",
       "      <td>6.912393</td>\n",
       "      <td>7.159944</td>\n",
       "      <td>8.028754</td>\n",
       "      <td>7.036169</td>\n",
       "      <td>7.652667</td>\n",
       "      <td>6.912393</td>\n",
       "      <td>6.912393</td>\n",
       "    </tr>\n",
       "    <tr>\n",
       "      <td>3</td>\n",
       "      <td>532.230761</td>\n",
       "      <td>445.456064</td>\n",
       "      <td>405.290121</td>\n",
       "      <td>392.755318</td>\n",
       "      <td>380.259494</td>\n",
       "      <td>365.892638</td>\n",
       "      <td>330.827486</td>\n",
       "      <td>365.252255</td>\n",
       "      <td>383.984854</td>\n",
       "      <td>406.910569</td>\n",
       "      <td>...</td>\n",
       "      <td>440.271745</td>\n",
       "      <td>415.747856</td>\n",
       "      <td>421.583695</td>\n",
       "      <td>427.330438</td>\n",
       "      <td>464.439247</td>\n",
       "      <td>573.644058</td>\n",
       "      <td>730.242789</td>\n",
       "      <td>739.553402</td>\n",
       "      <td>707.027509</td>\n",
       "      <td>666.159929</td>\n",
       "    </tr>\n",
       "    <tr>\n",
       "      <td>4</td>\n",
       "      <td>232.622787</td>\n",
       "      <td>208.286001</td>\n",
       "      <td>193.244237</td>\n",
       "      <td>186.558637</td>\n",
       "      <td>181.406615</td>\n",
       "      <td>183.260942</td>\n",
       "      <td>170.564651</td>\n",
       "      <td>172.482459</td>\n",
       "      <td>170.995657</td>\n",
       "      <td>165.890411</td>\n",
       "      <td>...</td>\n",
       "      <td>170.527898</td>\n",
       "      <td>174.036084</td>\n",
       "      <td>186.505179</td>\n",
       "      <td>190.247244</td>\n",
       "      <td>208.753759</td>\n",
       "      <td>244.684263</td>\n",
       "      <td>277.454059</td>\n",
       "      <td>278.737053</td>\n",
       "      <td>281.991313</td>\n",
       "      <td>289.021049</td>\n",
       "    </tr>\n",
       "  </tbody>\n",
       "</table>\n",
       "<p>5 rows × 23 columns</p>\n",
       "</div>"
      ],
      "text/plain": [
       "hour          0           1           2           3           4           5   \\\n",
       "0      16.194979   16.702594   16.528753   16.619150   16.925110   16.563521   \n",
       "1      95.561098   83.953312   80.173035   78.481654   80.204213   85.323175   \n",
       "2       6.912393    6.379206    6.026921    6.664842    6.788617    7.159944   \n",
       "3     532.230761  445.456064  405.290121  392.755318  380.259494  365.892638   \n",
       "4     232.622787  208.286001  193.244237  186.558637  181.406615  183.260942   \n",
       "\n",
       "hour          6           7           8           9   ...          13  \\\n",
       "0      16.650442   17.192824   17.224115   25.485015  ...   14.053265   \n",
       "1      96.350280  118.661704  121.237748  119.739278  ...  115.736862   \n",
       "2       6.912393    6.912393    7.159944    7.281340  ...    6.788617   \n",
       "3     330.827486  365.252255  383.984854  406.910569  ...  440.271745   \n",
       "4     170.564651  172.482459  170.995657  165.890411  ...  170.527898   \n",
       "\n",
       "hour          14          15          16          17          18          19  \\\n",
       "0      15.350115   16.650442   13.747305   13.462207   15.437035   14.745150   \n",
       "1     112.880220  108.133440  107.174731  109.296752  115.409497  125.411641   \n",
       "2       6.419671    6.419671    6.912393    7.159944    8.028754    7.036169   \n",
       "3     415.747856  421.583695  427.330438  464.439247  573.644058  730.242789   \n",
       "4     174.036084  186.505179  190.247244  208.753759  244.684263  277.454059   \n",
       "\n",
       "hour          20          21          22  \n",
       "0      14.856408   16.045477   16.097629  \n",
       "1     126.859448  116.198679  106.030905  \n",
       "2       7.652667    6.912393    6.912393  \n",
       "3     739.553402  707.027509  666.159929  \n",
       "4     278.737053  281.991313  289.021049  \n",
       "\n",
       "[5 rows x 23 columns]"
      ]
     },
     "execution_count": 65,
     "metadata": {},
     "output_type": "execute_result"
    }
   ],
   "source": [
    "target_cols = list(range(0,23))\n",
    "hour_df2 = hour_df[target_cols]\n",
    "hour_df2.head()"
   ]
  },
  {
   "cell_type": "code",
   "execution_count": 67,
   "metadata": {},
   "outputs": [],
   "source": []
  },
  {
   "cell_type": "code",
   "execution_count": null,
   "metadata": {},
   "outputs": [],
   "source": []
  },
  {
   "cell_type": "code",
   "execution_count": 7,
   "metadata": {},
   "outputs": [
    {
     "data": {
      "text/plain": [
       "<matplotlib.axes._subplots.AxesSubplot at 0x134b9a57188>"
      ]
     },
     "execution_count": 7,
     "metadata": {},
     "output_type": "execute_result"
    },
    {
     "data": {
      "image/png": "[encoded data removed]",
      "text/plain": [
       "<Figure size 432x288 with 1 Axes>"
      ]
     },
     "metadata": {
      "needs_background": "light"
     },
     "output_type": "display_data"
    }
   ],
   "source": [
    "total_value_by_company[\"value\"].plot(x=\"customer_id\", y=\"value\")"
   ]
  },
  {
   "cell_type": "code",
   "execution_count": null,
   "metadata": {},
   "outputs": [],
   "source": []
  },
  {
   "cell_type": "markdown",
   "metadata": {},
   "source": [
    "### 練習1: 月別の消費電力量を集計する\n",
    "ヒント:  data.groupby([キーとなる列名]).aggregate({\"集計対象の列名\":集計関数}).reset_index()"
   ]
  },
  {
   "cell_type": "code",
   "execution_count": 8,
   "metadata": {},
   "outputs": [],
   "source": [
    "monthly_total_value = data.groupby([\"month\"]).aggregate({\"value\":np.sum}).reset_index()"
   ]
  },
  {
   "cell_type": "code",
   "execution_count": 9,
   "metadata": {},
   "outputs": [
    {
     "data": {
      "text/plain": [
       "<matplotlib.axes._subplots.AxesSubplot at 0x134ba1a9908>"
      ]
     },
     "execution_count": 9,
     "metadata": {},
     "output_type": "execute_result"
    },
    {
     "data": {
      "image/png": "[encoded data removed]",
      "text/plain": [
       "<Figure size 432x288 with 1 Axes>"
      ]
     },
     "metadata": {
      "needs_background": "light"
     },
     "output_type": "display_data"
    }
   ],
   "source": [
    "monthly_total_value.plot(x=\"month\", y=\"value\")"
   ]
  },
  {
   "cell_type": "markdown",
   "metadata": {},
   "source": [
    "### 試してみよう3: Pandasによるデータの集計2: 要素数カウント\n",
    "\n",
    "ヒント:  data.groupby([キーとなる列名]).aggregate({\"集計対象の列名\":集計関数}).reset_index()"
   ]
  },
  {
   "cell_type": "code",
   "execution_count": 10,
   "metadata": {},
   "outputs": [],
   "source": [
    "data_non_zero = data[data[\"value\"] > 0]\n",
    "monthly_total_count = data_non_zero.groupby([\"month\"])[\"customer_id\"].nunique()"
   ]
  },
  {
   "cell_type": "code",
   "execution_count": 11,
   "metadata": {},
   "outputs": [
    {
     "data": {
      "text/plain": [
       "month\n",
       "1     361\n",
       "2     366\n",
       "3     368\n",
       "4     368\n",
       "5     368\n",
       "6     368\n",
       "7     369\n",
       "8     369\n",
       "9     369\n",
       "10    368\n",
       "11    369\n",
       "12    369\n",
       "Name: customer_id, dtype: int64"
      ]
     },
     "execution_count": 11,
     "metadata": {},
     "output_type": "execute_result"
    }
   ],
   "source": [
    "monthly_total_count"
   ]
  },
  {
   "cell_type": "markdown",
   "metadata": {},
   "source": [
    "### 試してみよう4: Pandasによるデータの集計3: pivot table\n",
    "\n",
    "使い方:  pd.pivot_table(data, columns=\"横持ちする列\", index=\"集計するキー\", values=\"集計対象する列\", aggfunc=集計関数).reset_index()"
   ]
  },
  {
   "cell_type": "code",
   "execution_count": 12,
   "metadata": {},
   "outputs": [],
   "source": [
    "month_df = pd.pivot_table(data, columns=\"month\", index=\"customer_id\", values=\"value\", aggfunc=np.mean).reset_index()"
   ]
  },
  {
   "cell_type": "markdown",
   "metadata": {},
   "source": [
    "1月~12月の列を抽出する"
   ]
  },
  {
   "cell_type": "code",
   "execution_count": 19,
   "metadata": {},
   "outputs": [
    {
     "data": {
      "text/html": [
       "<div>\n",
       "<style scoped>\n",
       "    .dataframe tbody tr th:only-of-type {\n",
       "        vertical-align: middle;\n",
       "    }\n",
       "\n",
       "    .dataframe tbody tr th {\n",
       "        vertical-align: top;\n",
       "    }\n",
       "\n",
       "    .dataframe thead th {\n",
       "        text-align: right;\n",
       "    }\n",
       "</style>\n",
       "<table border=\"1\" class=\"dataframe\">\n",
       "  <thead>\n",
       "    <tr style=\"text-align: right;\">\n",
       "      <th>month</th>\n",
       "      <th>1</th>\n",
       "      <th>2</th>\n",
       "      <th>3</th>\n",
       "      <th>4</th>\n",
       "      <th>5</th>\n",
       "      <th>6</th>\n",
       "      <th>7</th>\n",
       "      <th>8</th>\n",
       "      <th>9</th>\n",
       "      <th>10</th>\n",
       "      <th>11</th>\n",
       "      <th>12</th>\n",
       "    </tr>\n",
       "  </thead>\n",
       "  <tbody>\n",
       "    <tr>\n",
       "      <td>0</td>\n",
       "      <td>9.705393</td>\n",
       "      <td>9.087201</td>\n",
       "      <td>9.558703</td>\n",
       "      <td>11.613438</td>\n",
       "      <td>18.933191</td>\n",
       "      <td>8.932600</td>\n",
       "      <td>9.101577</td>\n",
       "      <td>61.208790</td>\n",
       "      <td>32.947335</td>\n",
       "      <td>6.508924</td>\n",
       "      <td>7.924422</td>\n",
       "      <td>8.465354</td>\n",
       "    </tr>\n",
       "    <tr>\n",
       "      <td>1</td>\n",
       "      <td>113.461509</td>\n",
       "      <td>100.564968</td>\n",
       "      <td>93.250509</td>\n",
       "      <td>96.621622</td>\n",
       "      <td>102.503289</td>\n",
       "      <td>107.689268</td>\n",
       "      <td>129.905054</td>\n",
       "      <td>129.560906</td>\n",
       "      <td>118.373637</td>\n",
       "      <td>103.224086</td>\n",
       "      <td>93.077288</td>\n",
       "      <td>91.385422</td>\n",
       "    </tr>\n",
       "    <tr>\n",
       "      <td>2</td>\n",
       "      <td>6.739114</td>\n",
       "      <td>6.971164</td>\n",
       "      <td>6.953981</td>\n",
       "      <td>6.851530</td>\n",
       "      <td>6.865232</td>\n",
       "      <td>6.823776</td>\n",
       "      <td>6.853554</td>\n",
       "      <td>6.845380</td>\n",
       "      <td>6.843083</td>\n",
       "      <td>6.851219</td>\n",
       "      <td>6.846703</td>\n",
       "      <td>6.623506</td>\n",
       "    </tr>\n",
       "    <tr>\n",
       "      <td>3</td>\n",
       "      <td>560.024915</td>\n",
       "      <td>589.019551</td>\n",
       "      <td>513.113034</td>\n",
       "      <td>481.131436</td>\n",
       "      <td>434.494930</td>\n",
       "      <td>431.035456</td>\n",
       "      <td>437.510928</td>\n",
       "      <td>429.012042</td>\n",
       "      <td>433.875339</td>\n",
       "      <td>434.844611</td>\n",
       "      <td>502.961269</td>\n",
       "      <td>568.761474</td>\n",
       "    </tr>\n",
       "    <tr>\n",
       "      <td>4</td>\n",
       "      <td>282.133491</td>\n",
       "      <td>280.155706</td>\n",
       "      <td>226.739116</td>\n",
       "      <td>187.857385</td>\n",
       "      <td>155.205875</td>\n",
       "      <td>152.032520</td>\n",
       "      <td>195.753016</td>\n",
       "      <td>164.568581</td>\n",
       "      <td>167.240854</td>\n",
       "      <td>175.829399</td>\n",
       "      <td>231.365176</td>\n",
       "      <td>281.195909</td>\n",
       "    </tr>\n",
       "  </tbody>\n",
       "</table>\n",
       "</div>"
      ],
      "text/plain": [
       "month          1           2           3           4           5           6   \\\n",
       "0        9.705393    9.087201    9.558703   11.613438   18.933191    8.932600   \n",
       "1      113.461509  100.564968   93.250509   96.621622  102.503289  107.689268   \n",
       "2        6.739114    6.971164    6.953981    6.851530    6.865232    6.823776   \n",
       "3      560.024915  589.019551  513.113034  481.131436  434.494930  431.035456   \n",
       "4      282.133491  280.155706  226.739116  187.857385  155.205875  152.032520   \n",
       "\n",
       "month          7           8           9           10          11          12  \n",
       "0        9.101577   61.208790   32.947335    6.508924    7.924422    8.465354  \n",
       "1      129.905054  129.560906  118.373637  103.224086   93.077288   91.385422  \n",
       "2        6.853554    6.845380    6.843083    6.851219    6.846703    6.623506  \n",
       "3      437.510928  429.012042  433.875339  434.844611  502.961269  568.761474  \n",
       "4      195.753016  164.568581  167.240854  175.829399  231.365176  281.195909  "
      ]
     },
     "execution_count": 19,
     "metadata": {},
     "output_type": "execute_result"
    }
   ],
   "source": [
    "target_cols = list(range(1,13))\n",
    "month_df2 = month_df[target_cols]\n",
    "month_df2.head()"
   ]
  },
  {
   "cell_type": "markdown",
   "metadata": {},
   "source": [
    "## 試してみよう5: 平均0, 標準偏差1で標準化\n",
    "### 横軸に「月」、縦軸に時間あたり消費電力の平均の折れ線グラフ"
   ]
  },
  {
   "cell_type": "code",
   "execution_count": 20,
   "metadata": {},
   "outputs": [
    {
     "data": {
      "text/plain": [
       "<matplotlib.axes._subplots.AxesSubplot at 0x134ba364088>"
      ]
     },
     "execution_count": 20,
     "metadata": {},
     "output_type": "execute_result"
    },
    {
     "data": {
      "image/png": "[encoded data removed]",
      "text/plain": [
       "<Figure size 432x288 with 1 Axes>"
      ]
     },
     "metadata": {
      "needs_background": "light"
     },
     "output_type": "display_data"
    }
   ],
   "source": [
    "month_df2.T.plot(color='blue', alpha=0.02, legend=False)"
   ]
  },
  {
   "cell_type": "markdown",
   "metadata": {},
   "source": [
    "大口顧客と小口顧客が混ざっているので見にくいですね。"
   ]
  },
  {
   "cell_type": "markdown",
   "metadata": {},
   "source": [
    "### StandardScalerで平均0、標準偏差1で標準化する"
   ]
  },
  {
   "cell_type": "code",
   "execution_count": 21,
   "metadata": {},
   "outputs": [],
   "source": [
    "from sklearn.preprocessing import StandardScaler"
   ]
  },
  {
   "cell_type": "code",
   "execution_count": 22,
   "metadata": {},
   "outputs": [],
   "source": [
    "scaler = StandardScaler()"
   ]
  },
  {
   "cell_type": "code",
   "execution_count": 23,
   "metadata": {},
   "outputs": [
    {
     "data": {
      "text/plain": [
       "array([[-0.42314016,  0.52696357, -1.16231903, ...,  2.36436949,\n",
       "        -1.0659823 , -1.69920847],\n",
       "       [-0.46363154, -0.46853859,  1.53737334, ...,  1.77150652,\n",
       "        -0.99531813, -1.49102732],\n",
       "       [-0.43274829, -1.03315203,  1.33746801, ..., -0.32001813,\n",
       "        -0.83851962, -0.95627684],\n",
       "       ...,\n",
       "       [-0.63250789, -0.26327756,  0.14191769, ...,  0.59478552,\n",
       "         0.59016985, -0.04975681],\n",
       "       [-0.53979322, -1.04652318,  0.08938593, ..., -0.73718024,\n",
       "        -0.7973861 , -0.42648041],\n",
       "       [-0.50436233, -1.1771207 , -2.50731314, ..., -0.35544996,\n",
       "        -0.83082131, -0.56968076]])"
      ]
     },
     "execution_count": 23,
     "metadata": {},
     "output_type": "execute_result"
    }
   ],
   "source": [
    "month_df2_std = scaler.fit_transform(month_df2.T)\n",
    "month_df2_std"
   ]
  },
  {
   "cell_type": "code",
   "execution_count": 31,
   "metadata": {},
   "outputs": [
    {
     "data": {
      "text/html": [
       "<div>\n",
       "<style scoped>\n",
       "    .dataframe tbody tr th:only-of-type {\n",
       "        vertical-align: middle;\n",
       "    }\n",
       "\n",
       "    .dataframe tbody tr th {\n",
       "        vertical-align: top;\n",
       "    }\n",
       "\n",
       "    .dataframe thead th {\n",
       "        text-align: right;\n",
       "    }\n",
       "</style>\n",
       "<table border=\"1\" class=\"dataframe\">\n",
       "  <thead>\n",
       "    <tr style=\"text-align: right;\">\n",
       "      <th></th>\n",
       "      <th>1</th>\n",
       "      <th>2</th>\n",
       "      <th>3</th>\n",
       "      <th>4</th>\n",
       "      <th>5</th>\n",
       "      <th>6</th>\n",
       "      <th>7</th>\n",
       "      <th>8</th>\n",
       "      <th>9</th>\n",
       "      <th>10</th>\n",
       "      <th>11</th>\n",
       "      <th>12</th>\n",
       "    </tr>\n",
       "  </thead>\n",
       "  <tbody>\n",
       "    <tr>\n",
       "      <td>0</td>\n",
       "      <td>-0.423140</td>\n",
       "      <td>-0.463632</td>\n",
       "      <td>-0.432748</td>\n",
       "      <td>-0.298164</td>\n",
       "      <td>0.181278</td>\n",
       "      <td>-0.473758</td>\n",
       "      <td>-0.462690</td>\n",
       "      <td>2.950317</td>\n",
       "      <td>1.099200</td>\n",
       "      <td>-0.632508</td>\n",
       "      <td>-0.539793</td>\n",
       "      <td>-0.504362</td>\n",
       "    </tr>\n",
       "    <tr>\n",
       "      <td>1</td>\n",
       "      <td>0.526964</td>\n",
       "      <td>-0.468539</td>\n",
       "      <td>-1.033152</td>\n",
       "      <td>-0.772931</td>\n",
       "      <td>-0.318917</td>\n",
       "      <td>0.081396</td>\n",
       "      <td>1.796264</td>\n",
       "      <td>1.769699</td>\n",
       "      <td>0.906138</td>\n",
       "      <td>-0.263278</td>\n",
       "      <td>-1.046523</td>\n",
       "      <td>-1.177121</td>\n",
       "    </tr>\n",
       "    <tr>\n",
       "      <td>2</td>\n",
       "      <td>-1.162319</td>\n",
       "      <td>1.537373</td>\n",
       "      <td>1.337468</td>\n",
       "      <td>0.145541</td>\n",
       "      <td>0.304947</td>\n",
       "      <td>-0.177349</td>\n",
       "      <td>0.169089</td>\n",
       "      <td>0.073989</td>\n",
       "      <td>0.047270</td>\n",
       "      <td>0.141918</td>\n",
       "      <td>0.089386</td>\n",
       "      <td>-2.507313</td>\n",
       "    </tr>\n",
       "    <tr>\n",
       "      <td>3</td>\n",
       "      <td>1.296297</td>\n",
       "      <td>1.794938</td>\n",
       "      <td>0.489520</td>\n",
       "      <td>-0.060490</td>\n",
       "      <td>-0.862530</td>\n",
       "      <td>-0.922025</td>\n",
       "      <td>-0.810662</td>\n",
       "      <td>-0.956823</td>\n",
       "      <td>-0.873186</td>\n",
       "      <td>-0.856517</td>\n",
       "      <td>0.314933</td>\n",
       "      <td>1.446545</td>\n",
       "    </tr>\n",
       "    <tr>\n",
       "      <td>4</td>\n",
       "      <td>1.527310</td>\n",
       "      <td>1.486376</td>\n",
       "      <td>0.380812</td>\n",
       "      <td>-0.423924</td>\n",
       "      <td>-1.099713</td>\n",
       "      <td>-1.165392</td>\n",
       "      <td>-0.260508</td>\n",
       "      <td>-0.905933</td>\n",
       "      <td>-0.850625</td>\n",
       "      <td>-0.672867</td>\n",
       "      <td>0.476558</td>\n",
       "      <td>1.507905</td>\n",
       "    </tr>\n",
       "  </tbody>\n",
       "</table>\n",
       "</div>"
      ],
      "text/plain": [
       "         1         2         3         4         5         6         7   \\\n",
       "0 -0.423140 -0.463632 -0.432748 -0.298164  0.181278 -0.473758 -0.462690   \n",
       "1  0.526964 -0.468539 -1.033152 -0.772931 -0.318917  0.081396  1.796264   \n",
       "2 -1.162319  1.537373  1.337468  0.145541  0.304947 -0.177349  0.169089   \n",
       "3  1.296297  1.794938  0.489520 -0.060490 -0.862530 -0.922025 -0.810662   \n",
       "4  1.527310  1.486376  0.380812 -0.423924 -1.099713 -1.165392 -0.260508   \n",
       "\n",
       "         8         9         10        11        12  \n",
       "0  2.950317  1.099200 -0.632508 -0.539793 -0.504362  \n",
       "1  1.769699  0.906138 -0.263278 -1.046523 -1.177121  \n",
       "2  0.073989  0.047270  0.141918  0.089386 -2.507313  \n",
       "3 -0.956823 -0.873186 -0.856517  0.314933  1.446545  \n",
       "4 -0.905933 -0.850625 -0.672867  0.476558  1.507905  "
      ]
     },
     "execution_count": 31,
     "metadata": {},
     "output_type": "execute_result"
    }
   ],
   "source": [
    "month_df_std = pd.DataFrame(month_df2_std).T\n",
    "month_df_std.columns = list(range(1,13))\n",
    "month_df_std.head()"
   ]
  },
  {
   "cell_type": "code",
   "execution_count": 32,
   "metadata": {},
   "outputs": [
    {
     "data": {
      "text/plain": [
       "<matplotlib.axes._subplots.AxesSubplot at 0x134d8195f08>"
      ]
     },
     "execution_count": 32,
     "metadata": {},
     "output_type": "execute_result"
    },
    {
     "data": {
      "image/png": "[encoded data removed]",
      "text/plain": [
       "<Figure size 432x288 with 1 Axes>"
      ]
     },
     "metadata": {
      "needs_background": "light"
     },
     "output_type": "display_data"
    }
   ],
   "source": [
    "month_df_std.T.plot(color='blue', alpha=0.02, legend=False)"
   ]
  },
  {
   "cell_type": "markdown",
   "metadata": {},
   "source": [
    "## 試してみよう6:  クラスタリング"
   ]
  },
  {
   "cell_type": "code",
   "execution_count": 33,
   "metadata": {},
   "outputs": [],
   "source": [
    "from sklearn.cluster import KMeans"
   ]
  },
  {
   "cell_type": "code",
   "execution_count": 34,
   "metadata": {},
   "outputs": [],
   "source": [
    "km = KMeans(n_clusters=2, random_state=1234)"
   ]
  },
  {
   "cell_type": "code",
   "execution_count": 35,
   "metadata": {},
   "outputs": [
    {
     "data": {
      "text/plain": [
       "KMeans(algorithm='auto', copy_x=True, init='k-means++', max_iter=300,\n",
       "       n_clusters=2, n_init=10, n_jobs=None, precompute_distances='auto',\n",
       "       random_state=1234, tol=0.0001, verbose=0)"
      ]
     },
     "execution_count": 35,
     "metadata": {},
     "output_type": "execute_result"
    }
   ],
   "source": [
    "km.fit(month_df_std)"
   ]
  },
  {
   "cell_type": "code",
   "execution_count": 36,
   "metadata": {},
   "outputs": [
    {
     "data": {
      "text/plain": [
       "<matplotlib.axes._subplots.AxesSubplot at 0x134d8c80ec8>"
      ]
     },
     "execution_count": 36,
     "metadata": {},
     "output_type": "execute_result"
    },
    {
     "data": {
      "image/png": "[encoded data removed]",
      "text/plain": [
       "<Figure size 432x288 with 1 Axes>"
      ]
     },
     "metadata": {
      "needs_background": "light"
     },
     "output_type": "display_data"
    }
   ],
   "source": [
    "pd.DataFrame(km.cluster_centers_).T.plot()"
   ]
  },
  {
   "cell_type": "code",
   "execution_count": 38,
   "metadata": {},
   "outputs": [
    {
     "data": {
      "text/plain": [
       "array([1, 1, 1, 0, 0, 0, 1, 0, 0, 0, 0, 0, 1, 0, 0, 0, 0, 0, 0, 0, 0, 0,\n",
       "       0, 0, 0, 0, 0, 0, 0, 0, 0, 0, 0, 0, 0, 0, 0, 0, 0, 0, 0, 0, 0, 0,\n",
       "       0, 0, 0, 0, 0, 0, 0, 0, 0, 0, 0, 0, 0, 0, 0, 0, 0, 0, 0, 0, 0, 1,\n",
       "       0, 0, 0, 0, 0, 0, 1, 0, 0, 0, 0, 0, 1, 0, 0, 1, 0, 0, 0, 1, 0, 0,\n",
       "       0, 0, 0, 0, 1, 0, 0, 0, 0, 1, 1, 1, 1, 1, 1, 1, 1, 1, 1, 0, 1, 0,\n",
       "       1, 0, 1, 0, 1, 1, 1, 1, 1, 1, 0, 0, 0, 1, 1, 1, 0, 1, 0, 0, 0, 0,\n",
       "       1, 0, 1, 1, 1, 1, 1, 0, 1, 1, 1, 1, 1, 1, 1, 1, 0, 1, 1, 1, 1, 1,\n",
       "       1, 1, 1, 0, 0, 1, 1, 0, 1, 0, 1, 1, 1, 1, 1, 0, 1, 0, 1, 1, 1, 1,\n",
       "       1, 1, 1, 1, 1, 1, 0, 1, 1, 1, 1, 1, 1, 1, 1, 1, 1, 1, 1, 1, 1, 1,\n",
       "       1, 1, 1, 1, 1, 1, 1, 1, 1, 1, 1, 1, 1, 1, 1, 1, 1, 1, 1, 1, 1, 1,\n",
       "       1, 1, 0, 1, 1, 1, 1, 1, 1, 1, 1, 1, 1, 1, 0, 1, 1, 1, 1, 1, 1, 1,\n",
       "       1, 1, 1, 1, 1, 1, 1, 1, 1, 1, 1, 1, 1, 1, 1, 1, 1, 1, 1, 1, 1, 1,\n",
       "       1, 1, 1, 1, 1, 1, 1, 1, 1, 1, 1, 1, 1, 1, 1, 1, 1, 1, 1, 1, 1, 1,\n",
       "       1, 1, 1, 1, 0, 1, 1, 1, 1, 1, 1, 1, 1, 1, 1, 1, 1, 1, 0, 1, 1, 1,\n",
       "       1, 1, 1, 1, 1, 1, 1, 1, 1, 1, 1, 1, 1, 1, 1, 1, 1, 1, 1, 1, 1, 1,\n",
       "       1, 0, 0, 0, 1, 0, 1, 1, 1, 1, 1, 1, 1, 1, 1, 1, 1, 0, 1, 1, 1, 1,\n",
       "       1, 1, 1, 1, 1, 1, 1, 1, 1, 1, 1, 1, 1, 1, 1, 0, 1, 1])"
      ]
     },
     "execution_count": 38,
     "metadata": {},
     "output_type": "execute_result"
    }
   ],
   "source": [
    "cluster_labels = km.predict(month_df_std)\n",
    "cluster_labels"
   ]
  },
  {
   "cell_type": "code",
   "execution_count": 39,
   "metadata": {},
   "outputs": [],
   "source": [
    "month_df_std[\"cluster_labels\"] = cluster_labels"
   ]
  },
  {
   "cell_type": "code",
   "execution_count": 40,
   "metadata": {},
   "outputs": [
    {
     "data": {
      "text/html": [
       "<div>\n",
       "<style scoped>\n",
       "    .dataframe tbody tr th:only-of-type {\n",
       "        vertical-align: middle;\n",
       "    }\n",
       "\n",
       "    .dataframe tbody tr th {\n",
       "        vertical-align: top;\n",
       "    }\n",
       "\n",
       "    .dataframe thead th {\n",
       "        text-align: right;\n",
       "    }\n",
       "</style>\n",
       "<table border=\"1\" class=\"dataframe\">\n",
       "  <thead>\n",
       "    <tr style=\"text-align: right;\">\n",
       "      <th></th>\n",
       "      <th>1</th>\n",
       "      <th>2</th>\n",
       "      <th>3</th>\n",
       "      <th>4</th>\n",
       "      <th>5</th>\n",
       "      <th>6</th>\n",
       "      <th>7</th>\n",
       "      <th>8</th>\n",
       "      <th>9</th>\n",
       "      <th>10</th>\n",
       "      <th>11</th>\n",
       "      <th>12</th>\n",
       "      <th>cluster_labels</th>\n",
       "    </tr>\n",
       "  </thead>\n",
       "  <tbody>\n",
       "    <tr>\n",
       "      <td>0</td>\n",
       "      <td>-0.423140</td>\n",
       "      <td>-0.463632</td>\n",
       "      <td>-0.432748</td>\n",
       "      <td>-0.298164</td>\n",
       "      <td>0.181278</td>\n",
       "      <td>-0.473758</td>\n",
       "      <td>-0.462690</td>\n",
       "      <td>2.950317</td>\n",
       "      <td>1.099200</td>\n",
       "      <td>-0.632508</td>\n",
       "      <td>-0.539793</td>\n",
       "      <td>-0.504362</td>\n",
       "      <td>1</td>\n",
       "    </tr>\n",
       "    <tr>\n",
       "      <td>1</td>\n",
       "      <td>0.526964</td>\n",
       "      <td>-0.468539</td>\n",
       "      <td>-1.033152</td>\n",
       "      <td>-0.772931</td>\n",
       "      <td>-0.318917</td>\n",
       "      <td>0.081396</td>\n",
       "      <td>1.796264</td>\n",
       "      <td>1.769699</td>\n",
       "      <td>0.906138</td>\n",
       "      <td>-0.263278</td>\n",
       "      <td>-1.046523</td>\n",
       "      <td>-1.177121</td>\n",
       "      <td>1</td>\n",
       "    </tr>\n",
       "    <tr>\n",
       "      <td>2</td>\n",
       "      <td>-1.162319</td>\n",
       "      <td>1.537373</td>\n",
       "      <td>1.337468</td>\n",
       "      <td>0.145541</td>\n",
       "      <td>0.304947</td>\n",
       "      <td>-0.177349</td>\n",
       "      <td>0.169089</td>\n",
       "      <td>0.073989</td>\n",
       "      <td>0.047270</td>\n",
       "      <td>0.141918</td>\n",
       "      <td>0.089386</td>\n",
       "      <td>-2.507313</td>\n",
       "      <td>1</td>\n",
       "    </tr>\n",
       "    <tr>\n",
       "      <td>3</td>\n",
       "      <td>1.296297</td>\n",
       "      <td>1.794938</td>\n",
       "      <td>0.489520</td>\n",
       "      <td>-0.060490</td>\n",
       "      <td>-0.862530</td>\n",
       "      <td>-0.922025</td>\n",
       "      <td>-0.810662</td>\n",
       "      <td>-0.956823</td>\n",
       "      <td>-0.873186</td>\n",
       "      <td>-0.856517</td>\n",
       "      <td>0.314933</td>\n",
       "      <td>1.446545</td>\n",
       "      <td>0</td>\n",
       "    </tr>\n",
       "    <tr>\n",
       "      <td>4</td>\n",
       "      <td>1.527310</td>\n",
       "      <td>1.486376</td>\n",
       "      <td>0.380812</td>\n",
       "      <td>-0.423924</td>\n",
       "      <td>-1.099713</td>\n",
       "      <td>-1.165392</td>\n",
       "      <td>-0.260508</td>\n",
       "      <td>-0.905933</td>\n",
       "      <td>-0.850625</td>\n",
       "      <td>-0.672867</td>\n",
       "      <td>0.476558</td>\n",
       "      <td>1.507905</td>\n",
       "      <td>0</td>\n",
       "    </tr>\n",
       "  </tbody>\n",
       "</table>\n",
       "</div>"
      ],
      "text/plain": [
       "          1         2         3         4         5         6         7  \\\n",
       "0 -0.423140 -0.463632 -0.432748 -0.298164  0.181278 -0.473758 -0.462690   \n",
       "1  0.526964 -0.468539 -1.033152 -0.772931 -0.318917  0.081396  1.796264   \n",
       "2 -1.162319  1.537373  1.337468  0.145541  0.304947 -0.177349  0.169089   \n",
       "3  1.296297  1.794938  0.489520 -0.060490 -0.862530 -0.922025 -0.810662   \n",
       "4  1.527310  1.486376  0.380812 -0.423924 -1.099713 -1.165392 -0.260508   \n",
       "\n",
       "          8         9        10        11        12  cluster_labels  \n",
       "0  2.950317  1.099200 -0.632508 -0.539793 -0.504362               1  \n",
       "1  1.769699  0.906138 -0.263278 -1.046523 -1.177121               1  \n",
       "2  0.073989  0.047270  0.141918  0.089386 -2.507313               1  \n",
       "3 -0.956823 -0.873186 -0.856517  0.314933  1.446545               0  \n",
       "4 -0.905933 -0.850625 -0.672867  0.476558  1.507905               0  "
      ]
     },
     "execution_count": 40,
     "metadata": {},
     "output_type": "execute_result"
    }
   ],
   "source": [
    "month_df_std.head()"
   ]
  },
  {
   "cell_type": "code",
   "execution_count": 41,
   "metadata": {},
   "outputs": [
    {
     "data": {
      "text/plain": [
       "<matplotlib.axes._subplots.AxesSubplot at 0x134d8cd11c8>"
      ]
     },
     "execution_count": 41,
     "metadata": {},
     "output_type": "execute_result"
    },
    {
     "data": {
      "image/png": "[encoded data removed]",
      "text/plain": [
       "<Figure size 432x288 with 1 Axes>"
      ]
     },
     "metadata": {
      "needs_background": "light"
     },
     "output_type": "display_data"
    }
   ],
   "source": [
    "month_df_std[month_df_std[\"cluster_labels\"]==0][list(range(1,13))].T.plot(color='blue', alpha=0.02, legend=False)"
   ]
  },
  {
   "cell_type": "code",
   "execution_count": 42,
   "metadata": {},
   "outputs": [
    {
     "data": {
      "text/plain": [
       "<matplotlib.axes._subplots.AxesSubplot at 0x134d9e5ec88>"
      ]
     },
     "execution_count": 42,
     "metadata": {},
     "output_type": "execute_result"
    },
    {
     "data": {
      "image/png": "[encoded data removed]",
      "text/plain": [
       "<Figure size 432x288 with 1 Axes>"
      ]
     },
     "metadata": {
      "needs_background": "light"
     },
     "output_type": "display_data"
    }
   ],
   "source": [
    "month_df_std[month_df_std[\"cluster_labels\"]==1][list(range(1,13))].T.plot(color='blue', alpha=0.02, legend=False)"
   ]
  },
  {
   "cell_type": "code",
   "execution_count": null,
   "metadata": {},
   "outputs": [],
   "source": []
  }
 ],
 "metadata": {
  "kernelspec": {
   "display_name": "Python 3",
   "language": "python",
   "name": "python3"
  },
  "language_info": {
   "codemirror_mode": {
    "name": "ipython",
    "version": 3
   },
   "file_extension": ".py",
   "mimetype": "text/x-python",
   "name": "python",
   "nbconvert_exporter": "python",
   "pygments_lexer": "ipython3",
   "version": "3.7.4"
  }
 },
 "nbformat": 4,
 "nbformat_minor": 2
}
